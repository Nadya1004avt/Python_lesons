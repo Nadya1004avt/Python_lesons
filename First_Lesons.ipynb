{
 "cells": [
  {
   "cell_type": "markdown",
   "id": "a827c18c",
   "metadata": {},
   "source": [
    "Переменные и основные типы данных"
   ]
  },
  {
   "cell_type": "markdown",
   "id": "61f45d75",
   "metadata": {},
   "source": [
    "Создайте три переменные: \n",
    "cat_name  со строкой как минимум из двух символов\n",
    "cat_age с неотрицательным числом\n",
    "is_fluffy с True или False"
   ]
  },
  {
   "cell_type": "code",
   "execution_count": null,
   "id": "6cca3386",
   "metadata": {},
   "outputs": [],
   "source": [
    "cat_name = 'koko'\n",
    "cat_age = 2\n",
    "is_fluffy = True"
   ]
  },
  {
   "cell_type": "markdown",
   "id": "fca3ef64",
   "metadata": {},
   "source": [
    "Давайте напишем программу для поиска длины гипотенузы. В переменных a и b уже записаны длины катетов прямоугольного треугольника. Создайте новую переменную c и сохраните в нее длину гипотенузы этого треугольника. "
   ]
  },
  {
   "cell_type": "code",
   "execution_count": 17,
   "id": "fabc65a7",
   "metadata": {},
   "outputs": [
    {
     "name": "stdout",
     "output_type": "stream",
     "text": [
      "5.0\n"
     ]
    }
   ],
   "source": [
    "a = 3\n",
    "b = 4\n",
    "\n",
    "c = (a**2 + b**2)**0.5\n",
    "\n",
    "print(c)"
   ]
  },
  {
   "cell_type": "markdown",
   "id": "b6459a0c",
   "metadata": {},
   "source": [
    "В переменной father_age хранится возраст отца, а в переменной son_age — возраст сына. Посчитайте, через сколько лет отец будет вдвое старше сына. Результат сохраните в переменную result. "
   ]
  },
  {
   "cell_type": "code",
   "execution_count": 18,
   "id": "ea7ded57",
   "metadata": {},
   "outputs": [
    {
     "name": "stdout",
     "output_type": "stream",
     "text": [
      "14\n"
     ]
    }
   ],
   "source": [
    "father_age = 20\n",
    "son_age = 3\n",
    "\n",
    "result = father_age - son_age * 2\n",
    "\n",
    "print(result)"
   ]
  },
  {
   "cell_type": "markdown",
   "id": "b20c2bec",
   "metadata": {},
   "source": [
    "Заданы вещественные числа a, b и с – стороны треугольника. Вычислите периметр и площадь треугольника. Результат сохраните в переменные perimeter и area соответственно."
   ]
  },
  {
   "cell_type": "code",
   "execution_count": 19,
   "id": "273a7d4c",
   "metadata": {},
   "outputs": [
    {
     "name": "stdout",
     "output_type": "stream",
     "text": [
      "12\n",
      "6.0\n"
     ]
    }
   ],
   "source": [
    "a = 3\n",
    "b = 4\n",
    "c = 5\n",
    "\n",
    "perimeter = (a+b+c)\n",
    "\n",
    "p = (a+b+c) / 2\n",
    "area = (p * (p - a) * (p - b) * (p - c))**0.5\n",
    "\n",
    "print(perimeter)\n",
    "print(area)"
   ]
  },
  {
   "cell_type": "markdown",
   "id": "58209dc5",
   "metadata": {},
   "source": [
    "В переменную n сохранено целое число — количество секунд. Напишите программу, которая конвертирует заданное количество секунд n в часы, минуты и секунды. Результат сохраните в переменные hours, minutes, seconds."
   ]
  },
  {
   "cell_type": "code",
   "execution_count": 16,
   "id": "72d6ee9a",
   "metadata": {},
   "outputs": [
    {
     "name": "stdout",
     "output_type": "stream",
     "text": [
      "6\n",
      "36\n",
      "50\n"
     ]
    }
   ],
   "source": [
    "n = 23810\n",
    "\n",
    "hours = n // 3600\n",
    "minutes = (n - hours * 3600) // 60\n",
    "seconds = (n - hours * 3600) % 60\n",
    "\n",
    "\n",
    "print(hours)\n",
    "print(minutes)\n",
    "print(seconds)"
   ]
  },
  {
   "cell_type": "code",
   "execution_count": null,
   "id": "4eb5bbe4",
   "metadata": {},
   "outputs": [
    {
     "name": "stdout",
     "output_type": "stream",
     "text": [
      "6\n",
      "6.613888888888889\n"
     ]
    }
   ],
   "source": []
  },
  {
   "cell_type": "code",
   "execution_count": 20,
   "id": "80496c5c",
   "metadata": {},
   "outputs": [
    {
     "name": "stdout",
     "output_type": "stream",
     "text": [
      "3.14\n"
     ]
    }
   ],
   "source": [
    "number = 3.14159\n",
    "\n",
    "result = round(number, 2)\n",
    "\n",
    "print(result)"
   ]
  },
  {
   "cell_type": "code",
   "execution_count": 21,
   "id": "e24aa789",
   "metadata": {},
   "outputs": [
    {
     "name": "stdout",
     "output_type": "stream",
     "text": [
      "10\n"
     ]
    }
   ],
   "source": [
    "number = -10\n",
    "\n",
    "result = abs(number)\n",
    "\n",
    "print(result)"
   ]
  },
  {
   "cell_type": "markdown",
   "id": "724d64ee",
   "metadata": {},
   "source": [
    "В переменной price_new хранится цена килограмма бананов в числовом формате, а в переменной price_old — цена килограмма бананов год назад. Вычислите, на сколько процентов по модулю изменилась цена за год. Результат сохраните в переменную result. Результат округлите до двух знаков после запятой. "
   ]
  },
  {
   "cell_type": "code",
   "execution_count": 24,
   "id": "7146f7d7",
   "metadata": {},
   "outputs": [
    {
     "name": "stdout",
     "output_type": "stream",
     "text": [
      "19.19\n"
     ]
    }
   ],
   "source": [
    "price_new = 89.99\n",
    "price_old = 75.50\n",
    "\n",
    "new_proc = (price_new * 100) / price_old \n",
    "result = round(abs(new_proc - 100), 2)\n",
    "\n",
    "print(result)"
   ]
  },
  {
   "cell_type": "markdown",
   "id": "8c28f425",
   "metadata": {},
   "source": [
    "Создайте переменные:\n",
    "a со значением 5 типа int,\n",
    "b со значением \"10\" типа str,\n",
    "c со значением True типа bool.\n",
    "В переменную my_sum сохраните сумму трех переменных, которые вы создали, преобразовав значения переменных b и с к типу int. Сами переменные b и c изменять не надо."
   ]
  },
  {
   "cell_type": "code",
   "execution_count": null,
   "id": "4173ecfe",
   "metadata": {},
   "outputs": [
    {
     "name": "stdout",
     "output_type": "stream",
     "text": [
      "16\n"
     ]
    }
   ],
   "source": [
    "a = int(5)\n",
    "b = str(10)\n",
    "c = bool(True)\n",
    "\n",
    "d = int(b)\n",
    "e = int(c)\n",
    "my_sum = a + d + e\n",
    "\n",
    "print(my_sum)"
   ]
  },
  {
   "cell_type": "markdown",
   "id": "f75c2a99",
   "metadata": {},
   "source": [
    "Более простой вариант"
   ]
  },
  {
   "cell_type": "code",
   "execution_count": 32,
   "id": "16ee15e8",
   "metadata": {},
   "outputs": [
    {
     "name": "stdout",
     "output_type": "stream",
     "text": [
      "16\n"
     ]
    }
   ],
   "source": [
    "a = 5\n",
    "b = '10'\n",
    "c = True\n",
    "\n",
    "my_sum = a + int(b) + int(c)\n",
    "\n",
    "print(my_sum)"
   ]
  },
  {
   "cell_type": "markdown",
   "id": "2f805859",
   "metadata": {},
   "source": [
    "В переменной a сохранено число с десятичной частью но в формате строки, например '3.14'. В переменную с сохраните целую часть из числа в переменной a."
   ]
  },
  {
   "cell_type": "code",
   "execution_count": 38,
   "id": "82dddc82",
   "metadata": {},
   "outputs": [
    {
     "name": "stdout",
     "output_type": "stream",
     "text": [
      "3\n"
     ]
    }
   ],
   "source": [
    "a = '3.14'\n",
    "\n",
    "b = float(a)\n",
    "c = int(b)\n",
    "\n",
    "print(c)"
   ]
  },
  {
   "cell_type": "markdown",
   "id": "4d74a876",
   "metadata": {},
   "source": [
    "В переменной х уже сохранено целое положительное число. Вычислите x + x0x0x. Результат сохраните в переменную result."
   ]
  },
  {
   "cell_type": "code",
   "execution_count": null,
   "id": "f72206a6",
   "metadata": {},
   "outputs": [
    {
     "name": "stdout",
     "output_type": "stream",
     "text": [
      "20204\n"
     ]
    }
   ],
   "source": [
    "x = 2\n",
    "\n",
    "str1 = f'{x}0{x}0{x}'\n",
    "x2 = int(str1)\n",
    "\n",
    "result = x + x2\n",
    "\n",
    "print(result)"
   ]
  },
  {
   "cell_type": "markdown",
   "id": "fb9742b8",
   "metadata": {},
   "source": [
    "Сравнение строк"
   ]
  },
  {
   "cell_type": "code",
   "execution_count": 48,
   "id": "8c2beee4",
   "metadata": {},
   "outputs": [
    {
     "name": "stdout",
     "output_type": "stream",
     "text": [
      "True\n"
     ]
    }
   ],
   "source": [
    "str1 = 'hello'\n",
    "str2 = 'world'\n",
    "\n",
    "result = str1 < str2\n",
    "\n",
    "print(result)"
   ]
  },
  {
   "cell_type": "code",
   "execution_count": 49,
   "id": "72a24a21",
   "metadata": {},
   "outputs": [
    {
     "name": "stdout",
     "output_type": "stream",
     "text": [
      "False\n"
     ]
    }
   ],
   "source": [
    "str1 = 'apple'\n",
    "str2 = 'banana'\n",
    "\n",
    "result = str1 > str2\n",
    "\n",
    "print(result)"
   ]
  },
  {
   "cell_type": "markdown",
   "id": "846d415b",
   "metadata": {},
   "source": [
    "В переменной m хранится целое положительное число — продолжительность сна в минутах. Если продолжительность сна составит от 7 до 9 часов включительно, то в переменную optimal_sleep_duration сохраните значение True. В противном случае присвойте этой переменной значение False."
   ]
  },
  {
   "cell_type": "code",
   "execution_count": null,
   "id": "4093faa8",
   "metadata": {},
   "outputs": [
    {
     "name": "stdout",
     "output_type": "stream",
     "text": [
      "True\n"
     ]
    }
   ],
   "source": [
    "m = 500\n",
    "\n",
    "hour = m // 60\n",
    "\n",
    "if (hour > 6 and hour < 10 ):\n",
    "\toptimal_sleep_duration = True\n",
    "else:\n",
    "\toptimal_sleep_duration = False\n",
    "\n",
    "print(optimal_sleep_duration)"
   ]
  },
  {
   "cell_type": "markdown",
   "id": "4deead4b",
   "metadata": {},
   "source": [
    "В переменной x хранится целое число. Проверьте, делится ли это число без остатка на 3 и на 7. Результат сохраните в переменную result. Переменная result должна иметь логический тип данных. "
   ]
  },
  {
   "cell_type": "code",
   "execution_count": 62,
   "id": "18a31859",
   "metadata": {},
   "outputs": [
    {
     "name": "stdout",
     "output_type": "stream",
     "text": [
      "False\n"
     ]
    }
   ],
   "source": [
    "x = 7\n",
    "\n",
    "if (x % 3 == 0 and x % 7 == 0):\n",
    "\tresult = True\n",
    "else:\n",
    "\tresult = False\n",
    "\n",
    "print(result)"
   ]
  },
  {
   "cell_type": "code",
   "execution_count": 68,
   "id": "bc869466",
   "metadata": {},
   "outputs": [
    {
     "name": "stdout",
     "output_type": "stream",
     "text": [
      "Hello\n",
      "world!\n",
      "Hello\tworld!\n",
      "Hello'world!\n",
      "Hello\"world!\n",
      "Hello\\world!\n"
     ]
    }
   ],
   "source": [
    "print(\"Hello\\nworld!\")\n",
    "print(\"Hello\\tworld!\")\n",
    "print(\"Hello\\'world!\")\n",
    "print(\"Hello\\\"world!\")\n",
    "print(\"Hello\\\\world!\")"
   ]
  },
  {
   "cell_type": "code",
   "execution_count": 69,
   "id": "592bcf43",
   "metadata": {},
   "outputs": [
    {
     "name": "stdout",
     "output_type": "stream",
     "text": [
      "'Манчестер Юнайтед' - чемпион Англии!\n",
      "2013\n"
     ]
    }
   ],
   "source": [
    "string1 = '\\'Манчестер Юнайтед\\' - чемпион Англии!\\n2013'\n",
    "print(string1)"
   ]
  },
  {
   "cell_type": "markdown",
   "id": "d54415d6",
   "metadata": {},
   "source": [
    "Сохраните в переменную square строку, которая выводит на экран прямоугольник 4 х 4, сформированный из звездочек, разделенных пробелом. "
   ]
  },
  {
   "cell_type": "code",
   "execution_count": 73,
   "id": "50f77fd8",
   "metadata": {},
   "outputs": [
    {
     "name": "stdout",
     "output_type": "stream",
     "text": [
      "* * * *\n",
      "* * * *\n",
      "* * * *\n",
      "* * * *\n",
      "\n"
     ]
    }
   ],
   "source": [
    "square = '* * * *\\n' * 4\n",
    "\n",
    "print(square)"
   ]
  }
 ],
 "metadata": {
  "kernelspec": {
   "display_name": "Python 3",
   "language": "python",
   "name": "python3"
  },
  "language_info": {
   "codemirror_mode": {
    "name": "ipython",
    "version": 3
   },
   "file_extension": ".py",
   "mimetype": "text/x-python",
   "name": "python",
   "nbconvert_exporter": "python",
   "pygments_lexer": "ipython3",
   "version": "3.11.9"
  }
 },
 "nbformat": 4,
 "nbformat_minor": 5
}
